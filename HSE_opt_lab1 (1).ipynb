{
  "cells": [
    {
      "cell_type": "code",
      "execution_count": null,
      "metadata": {
        "id": "eEGdYzlU4SmG",
        "colab": {
          "base_uri": "https://localhost:8080/"
        },
        "outputId": "fd1a8549-3334-4b60-f52c-cb439ae2c9c9"
      },
      "outputs": [
        {
          "output_type": "stream",
          "name": "stdout",
          "text": [
            "Populating the interactive namespace from numpy and matplotlib\n"
          ]
        },
        {
          "output_type": "stream",
          "name": "stderr",
          "text": [
            "/usr/local/lib/python3.7/dist-packages/IPython/core/magics/pylab.py:161: UserWarning: pylab import has clobbered these variables: ['random']\n",
            "`%matplotlib` prevents importing * from pylab and numpy\n",
            "  \"\\n`%matplotlib` prevents importing * from pylab and numpy\"\n"
          ]
        }
      ],
      "source": [
        "import numpy as np\n",
        "import networkx as nx\n",
        "from collections import defaultdict\n",
        "import time\n",
        "\n",
        "import random\n",
        "import math\n",
        "\n",
        "%matplotlib notebook\n",
        "import matplotlib.pyplot as plt\n",
        "%pylab inline"
      ]
    },
    {
      "cell_type": "markdown",
      "metadata": {
        "id": "sD1wC1Wc4YHf"
      },
      "source": [
        "## Генераторы графов"
      ]
    },
    {
      "cell_type": "code",
      "execution_count": null,
      "metadata": {
        "id": "grFeMbi25Zi3"
      },
      "outputs": [],
      "source": [
        "# функция возвращает случайный простой граф в моделе Gnp \n",
        "# вероятность ребра p = 2*m/(n*(n-1)), чтобы среденее число ребер было = m\n",
        "# структура хранения - список смежности, реализованный через словарь (хеш-таблица) списков \n",
        "# ребра представляют собой tuple двух вершин\n",
        "def get_random_simple_Gnp_graph(n, m, seed=42):\n",
        "  edge_p = 2*m/(n*(n-1))\n",
        "  g = nx.random_graphs.fast_gnp_random_graph(n,edge_p,seed)\n",
        "  \n",
        "  return nx.convert.to_dict_of_lists(g)"
      ]
    },
    {
      "cell_type": "code",
      "execution_count": null,
      "metadata": {
        "id": "ENCnp0CN-veo"
      },
      "outputs": [],
      "source": [
        "# функция возвращает случайный ориентированный граф в моделе Gnp \n",
        "# вероятность ребра p = m/(n*(n-1)), чтобы среденее число ребер было = m\n",
        "# структура хранения - список смежности, реализованный через словарь (хеш-таблица) списков \n",
        "# ребра представляют собой tuple двух вершин\n",
        "def get_random_Gnp_digraph(n, m, seed=42):\n",
        "  edge_p = m/(n*(n-1))\n",
        "  g = nx.random_graphs.fast_gnp_random_graph(n,edge_p,seed,True)\n",
        "  \n",
        "  return nx.convert.to_dict_of_lists(g)"
      ]
    },
    {
      "cell_type": "code",
      "execution_count": null,
      "metadata": {
        "id": "RT_M3XlFLMnS"
      },
      "outputs": [],
      "source": [
        "# функция возвращает случайный простой граф в моделе Gnm \n",
        "# структура хранения - список смежности, реализованный через словарь (хеш-таблица) списков \n",
        "# ребра представляют собой tuple двух вершин\n",
        "def get_random_simple_Gnm_graph(n, m, seed=42):\n",
        "  g = nx.random_graphs.gnm_random_graph(n,m,seed)\n",
        "\n",
        "  return nx.convert.to_dict_of_lists(g)"
      ]
    },
    {
      "cell_type": "code",
      "execution_count": null,
      "metadata": {
        "id": "6bTLnJy9LiwE"
      },
      "outputs": [],
      "source": [
        "# функция возвращает случайный ориентированный граф в моделе Gnm\n",
        "# структура хранения - список смежности, реализованный через словарь (хеш-таблица) списков \n",
        "# ребра представляют собой tuple двух вершин\n",
        "def get_random_Gnm_digraph(n, m, seed=42):\n",
        "  g = nx.random_graphs.gnm_random_graph(n,m,seed,True)\n",
        "\n",
        "  return nx.convert.to_dict_of_lists(g)"
      ]
    },
    {
      "cell_type": "code",
      "execution_count": null,
      "metadata": {
        "id": "qXpwNkSmUvPN"
      },
      "outputs": [],
      "source": [
        "# функция возвращает связный ориентированный Ейлеров граф\n",
        "# в графе n вершин, k - параметр, от которого зависти генерация\n",
        "# структура хранения - список смежности, реализованный через словарь (хеш-таблица) списков \n",
        "# ребра представляют собой tuple двух вершин\n",
        "def get_Euler_digraph(n, k=8):\n",
        "  in_degs, out_degs = [k]*n, [k]*n \n",
        "  G = nx.generators.directed_havel_hakimi_graph(in_degs, out_degs)\n",
        "  WCCs = list(nx.algorithms.components.weakly_connected_components(G))\n",
        "  if len(WCCs) > 1:\n",
        "    connecting_nodes = []\n",
        "    for WCC in WCCs:\n",
        "      some_vertex_of_WCC = next(iter(WCC))\n",
        "      connecting_nodes.append(some_vertex_of_WCC)\n",
        "    for i in range(1, len(connecting_nodes)):\n",
        "      G.add_edge(connecting_nodes[i-1],connecting_nodes[i])\n",
        "      G.add_edge(connecting_nodes[i],connecting_nodes[i-1])\n",
        "    \n",
        "  return nx.convert.to_dict_of_lists(G)"
      ]
    },
    {
      "cell_type": "code",
      "execution_count": null,
      "metadata": {
        "id": "jlCdHUkLCrUj"
      },
      "outputs": [],
      "source": [
        "# утилитарная функция, переводящая таплы вида (1, 0, 0, 1)\n",
        "# в числа, интерпетируя эту запись как число в двоичной записи\n",
        "# эта функция нужна для следующей функции\n",
        "def get_index_from_binary(tup):\n",
        "  n = len(tup)\n",
        "  mult = 1\n",
        "  res = 0\n",
        "  for i in range(n):\n",
        "    res += tup[i]*mult\n",
        "    mult *= 2\n",
        "  return res\n",
        "\n",
        "# функция возвращает связный ориентированный регулярный Ейлеров граф\n",
        "# входные и выходные степени всех вершин совпадают и равны half_dim\n",
        "# число вершин равно 4**half_dim\n",
        "# структура хранения - список смежности, реализованный через словарь (хеш-таблица) списков \n",
        "# ребра представляют собой tuple двух вершин\n",
        "def get_hypercube_digraph(half_dim):\n",
        "  G = nx.generators.hypercube_graph(half_dim*2)\n",
        "  directed_G = nx.DiGraph()\n",
        "  Euler_circuit_G = nx.algorithms.eulerian_circuit(G)\n",
        "  for (u,v) in Euler_circuit_G:\n",
        "    directed_G.add_edge(get_index_from_binary(u), get_index_from_binary(v))\n",
        "  return nx.convert.to_dict_of_lists(directed_G)"
      ]
    },
    {
      "cell_type": "markdown",
      "metadata": {
        "id": "iVqQjVxgfnzk"
      },
      "source": [
        "#Алгоритмы сортировки"
      ]
    },
    {
      "cell_type": "code",
      "execution_count": null,
      "metadata": {
        "id": "lfxzEQsYfs-C"
      },
      "outputs": [],
      "source": [
        "# поразрядная сортировка\n",
        "# возвращает итоговую перестановку эелементов массива A\n",
        "# для того, чтобы можно было переставить элементы в любом другом массиве\n",
        "def radix_argsort(A):\n",
        "  result = A\n",
        "  num_len = len(str(max(result)))\n",
        "  num_range = 10\n",
        "  for i in range(num_len):\n",
        "    tmp = [[] for k in range(num_range)]\n",
        "    for j in result:\n",
        "        num = j // 10**i % 10\n",
        "        tmp[num].append(j)\n",
        "    result = []\n",
        "    for k in range(num_range):\n",
        "        result = result + tmp[k]\n",
        "  return result"
      ]
    },
    {
      "cell_type": "code",
      "execution_count": null,
      "metadata": {
        "id": "bhy2R3J_Y3Oe"
      },
      "outputs": [],
      "source": [
        "#bubble sort\n",
        "def bubble_sort(array):\n",
        "    sorted = array\n",
        "    length = len(sorted)\n",
        "    for i in range(0, length):\n",
        "        for j in range(0, length - i - 1):\n",
        "            if (sorted[j] > sorted[j + 1]):\n",
        "                temp = sorted[j]\n",
        "                sorted[j] = sorted[j + 1]\n",
        "                sorted[j + 1] = temp\n",
        "    return sorted"
      ]
    },
    {
      "cell_type": "code",
      "execution_count": null,
      "metadata": {
        "id": "kaW51gQBf99y"
      },
      "outputs": [],
      "source": [
        "# карманная сортировка\n",
        "# возвращает итоговую перестановку эелементов массива A\n",
        "# для того, чтобы можно было переставить элементы в любом другом массиве\n",
        "def bucket_argsort(A):\n",
        "  bucket_num = 10\n",
        "  buckets = [[] for k in range(bucket_num)]\n",
        "  result = []\n",
        "  for i in A:\n",
        "    idx = int(bucket_num * i)\n",
        "    buckets[idx].append(i)\n",
        "  for i in range(bucket_num):\n",
        "    buckets[i] = bubble_sort(buckets[i])\n",
        "  for i in buckets:\n",
        "    for j in i:\n",
        "      result.append(j)\n",
        "  return result\n",
        "\n",
        "\n",
        "#A = [0.2, 0.32, 0.94, 0.55, 0.47]\n",
        "#B = bucket_argsort(A)\n",
        "#print(B)"
      ]
    },
    {
      "cell_type": "code",
      "execution_count": null,
      "metadata": {
        "id": "e7Lg_cD8s3fq"
      },
      "outputs": [],
      "source": [
        "def partition(A,st,fn,l_idx,l):\n",
        "  i = 0\n",
        "  j = 0\n",
        "  A[l_idx], A[fn] = A[fn], A[l_idx]\n",
        "  while (j < fn):\n",
        "    if (A[j] >= l):\n",
        "      j += 1\n",
        "    elif (A[j] <= l):\n",
        "      A[i], A[j] = A[j], A[i]\n",
        "      i += 1\n",
        "      j += 1\n",
        "  A[fn], A[i] = A[i], A[fn]\n",
        "  return i"
      ]
    },
    {
      "cell_type": "code",
      "execution_count": null,
      "metadata": {
        "id": "2Xrh676Tf-WC"
      },
      "outputs": [],
      "source": [
        "# быстрая сортировка\n",
        "# возвращает итоговую перестановку эелементов массива A\n",
        "# для того, чтобы можно было переставить элементы в любом другом массиве\n",
        "def quick_argsort(A,st,fn):\n",
        "  result = []\n",
        "  n = 2\n",
        "  while(fn-st > n):\n",
        "    l_idx = random.randint(st, fn)\n",
        "    l = A[l_idx]\n",
        "    l_idx = partition(A,st,fn,l_idx,l)\n",
        "    if (l_idx - st) > (fn - l_idx):\n",
        "      quick_argsort(A,l_idx,fn)\n",
        "      fn = l_idx\n",
        "    else:\n",
        "      quick_argsort(A,st,l_idx)\n",
        "      st = l_idx + 1\n",
        "  result = bubble_sort(A)\n",
        "  return result"
      ]
    },
    {
      "cell_type": "markdown",
      "metadata": {
        "id": "-2qavQiBBFv7"
      },
      "source": [
        "#Алгоритмы для поиска мостов"
      ]
    },
    {
      "cell_type": "code",
      "execution_count": null,
      "metadata": {
        "id": "Xx5S-FtTK4Rb"
      },
      "outputs": [],
      "source": [
        "def dfs(v,G,bridges,color,M,time_st,count,parent):\n",
        "    color[v] = 'g'\n",
        "    M[v] = count\n",
        "    time_st[v] = count\n",
        "    count += 1\n",
        "    for u in G[v]:\n",
        "      if (color[u] == 'w'):\n",
        "        parent[u] = v\n",
        "        dfs(u,G,bridges,color,M,time_st,count,parent)\n",
        "        M[v] = min(M[v],M[u])\n",
        "        if (M[u] >= time_st[v]):\n",
        "           bridges.append((u, v))\n",
        "      elif(color[u] == 'g') and (parent[v] != u):\n",
        "          M[v] = min(M[v],M[u])\n",
        "    color[v] = 'b'"
      ]
    },
    {
      "cell_type": "code",
      "execution_count": null,
      "metadata": {
        "id": "3CssyQPh_L2i"
      },
      "outputs": [],
      "source": [
        "# детерминированный алгоритм для поиска мостов\n",
        "# на вход поступает граф представленный списком смежности\n",
        "# саписок представлен как словарь(хеш-таблица) списков\n",
        "# выход представляет собой список ребер, являющихся мостами \n",
        "def compute_bridges_determ(G):\n",
        "    G[-1] = [i for i in range(0, len(G))]\n",
        "    bridges = []\n",
        "    result = []\n",
        "    color = {}\n",
        "    M = {}\n",
        "    time_st = {}\n",
        "    count = 0\n",
        "    parent = {}\n",
        "    for v in G:\n",
        "        color[v] = 'w'\n",
        "        M[v] = math.inf\n",
        "    dfs(-1,G,bridges,color,M,time_st,count,parent)\n",
        "    for i in bridges:\n",
        "      if (i[0] != -1) and (i[1] != -1):\n",
        "        result = bridges.append(i)\n",
        "    G.pop(-1)\n",
        "    return set(result)"
      ]
    },
    {
      "cell_type": "code",
      "source": [
        "def sampling(v,adj_list,color,path,samples):\n",
        "  color[v] = 'g'\n",
        "  path.append(v)\n",
        "  for adj in adj_list[v]:\n",
        "    if color[adj] == 'w':\n",
        "      sampling(adj)\n",
        "    elif len(path) < 2 or path[-2] != adj:\n",
        "      random_int = np.uint64(random.randint(0, np.iinfo(np.uint64).max))\n",
        "      samples[v][adj] = random_int;\n",
        "      samples[adj][v] = random_int;\n",
        "  color[v] = 'b'\n",
        "  path.pop()\n",
        "  if len(path) > 0:\n",
        "    parent = path[-1]\n",
        "    parent_weight = np.uint64(0)\n",
        "    for adj in adj_list[v]:\n",
        "        if (adj != parent):\n",
        "            parent_weight ^= samples[v][adj]\n",
        "    samples[v][parent] = parent_weight\n",
        "    samples[parent][v] = parent_weight"
      ],
      "metadata": {
        "id": "ZYfkeutRriyO"
      },
      "execution_count": null,
      "outputs": []
    },
    {
      "cell_type": "code",
      "execution_count": null,
      "metadata": {
        "id": "bwuVGx16C0J6"
      },
      "outputs": [],
      "source": [
        "# рандомизированный алгоритм для поиска мостов\n",
        "# на вход поступает граф представленный списком смежности\n",
        "# саписок представлен как словарь(хеш-таблица) списков \n",
        "# выход представляет собой список ребер, являющихся мостами с большой вероятностью\n",
        "def compute_bridges_rand(adj_list):\n",
        "  color = []\n",
        "  bridges = []\n",
        "  path = []\n",
        "  samples = {}\n",
        "  for i in range(len(adj_list)):\n",
        "    samples[i] = {}\n",
        "  for i in adj_list:\n",
        "    color[adj_list] = 'w'\n",
        "  for v in adj_list:\n",
        "    if color[v] == 'w':\n",
        "      sampling(v)\n",
        "  for v_from in adj_list:\n",
        "    for v_to in adj_list[v_from]:\n",
        "      if ((v_to, v_from) not in bridges) and (samples[v_from][v_to] == 0):\n",
        "        bridges.append((v_from, v_to))\n",
        "  return bridges\n"
      ]
    },
    {
      "cell_type": "code",
      "execution_count": null,
      "metadata": {
        "id": "Bimj4itwJ0NR"
      },
      "outputs": [],
      "source": [
        "# рандомизированный алгоритм для поиска 2-мостов\n",
        "#\n",
        "# на вход поступает граф представленный списком смежности и алгоритм сортировки для меток на ребрах\n",
        "# саписок представлен как словарь(хеш-таблица) списков \n",
        "#\n",
        "# выходом алгоритма является список списков ребер\n",
        "# в каждом списке любая пара ребер должна с высокой вероятностью образовывать 2-мост\n",
        "# например, если выходом является спискок [[e1, e2, e3],[e4, e5]]\n",
        "# то с высокой вероятностью 2-мостами будут пары ребер: (e1,e2), (e1,e3), (e2,e3), (e4,e5)\n",
        "# ребра здесь это пары вершин типа e1 = (1,2)\n",
        "def compute_2bridges_rand(adj_list, sort_fun):\n",
        "  color = []\n",
        "  bridges = []\n",
        "  path = []\n",
        "  samples = {}\n",
        "  edges = []\n",
        "  for i in range(len(adj_list)):\n",
        "    samples[i] = {}\n",
        "  for i in adj_list:\n",
        "    color[adj_list] = 'w'\n",
        "  for v in adj_list:\n",
        "    if color[v] == 'w':\n",
        "      sampling(v)\n",
        "  for v_from in adj_list:\n",
        "    for v_to in adj_list[v_from]:\n",
        "      if (v_to, v_from) not in [edge[0] for edge in edges]:\n",
        "        edges.append([(v_from, v_to), samples[v_from][v_to]])\n",
        "  samples_list = [edge[1] for edge in edges]\n",
        "  sorted_args = sort_fun(samples_list)\n",
        "  cluster_size = 0\n",
        "  current_cluster = 0\n",
        "  for i in range(len(sorted_args) - 1):\n",
        "      cluster_size+=1\n",
        "      if sorted_args[i] != sorted_args[i+1]:\n",
        "          if cluster_size > 1:\n",
        "              sample = sorted_args[i]\n",
        "              bridges.append([])\n",
        "              for k in range(len(edges)):\n",
        "                  if edges[k][1] == sample:\n",
        "                      bridges[current_cluster].append((edges[k][0]))\n",
        "              current_cluster += 1\n",
        "              cluster_size = 0\n",
        "          else:\n",
        "              cluster_size = 0\n",
        "  return bridges"
      ]
    },
    {
      "cell_type": "markdown",
      "metadata": {
        "id": "9a0jhn8IUcSF"
      },
      "source": [
        "#Эйлеровы циклы"
      ]
    },
    {
      "cell_type": "code",
      "execution_count": null,
      "metadata": {
        "id": "u3P2QL3BFWwN"
      },
      "outputs": [],
      "source": [
        "def dfs_euler(v, G, color, result):\n",
        "    color[v] = 'g'\n",
        "    for u in G[v]:\n",
        "        if color[u] == 'w':\n",
        "            dfs_euler(u, G, color, result)\n",
        "    color[v] = 'b'\n",
        "    result.append(v)"
      ]
    },
    {
      "cell_type": "code",
      "execution_count": null,
      "metadata": {
        "id": "C196EbJbNURg"
      },
      "outputs": [],
      "source": [
        "def make_edge_graph(adj_list):\n",
        "    edge_graph = {}\n",
        "    edges = []\n",
        "    for v in adj_list:\n",
        "        for u in adj_list[v]:\n",
        "            edge_graph[(v, u)] = []\n",
        "            edges.append((v, u))\n",
        "    edges.sort()\n",
        "    for edge in edge_graph:\n",
        "        for e in edges:\n",
        "            if edge[1] == e[0]:\n",
        "                edge_graph[edge].append(e) \n",
        "            elif edge[1] < e[0]:\n",
        "                continue\n",
        "    return edge_graph"
      ]
    },
    {
      "cell_type": "code",
      "execution_count": null,
      "metadata": {
        "id": "dCtrqokbUmvf"
      },
      "outputs": [],
      "source": [
        "# функция вычисляющая эйлеров обход для данного ориентированного графа G \n",
        "# цикл кодируется списком ребер, например:\n",
        "# (1,2), (2,4), (4, 7), (7,1)\n",
        "#\n",
        "def compute_Euler_circuit_digraph(G):\n",
        "    color = {}\n",
        "    result = []\n",
        "    edge_graph = make_edge_graph(G)\n",
        "    for v in edge_graph:\n",
        "        color[v] = 'w'\n",
        "      \n",
        "    dfs_euler(list(edge_graph.keys())[0], edge_graph, color, result) \n",
        "    result.reverse()\n",
        "    return result"
      ]
    },
    {
      "cell_type": "markdown",
      "metadata": {
        "id": "YayReqtzNMN8"
      },
      "source": [
        "# Арифметика в конечных кольцах и полях"
      ]
    },
    {
      "cell_type": "code",
      "source": [
        "def ext_gcd(p, x):  \n",
        "    if x == 0 :   \n",
        "        return p, 0, 1            \n",
        "    g, x_g, p_g = ext_gcd(x, p%x)  \n",
        "    return g, p_g - (p//x) * x_g, x_g\n",
        "\n",
        "#g, x, p = ext_gcd(592,2347)\n",
        "#print(g, x, p)"
      ],
      "metadata": {
        "id": "BsJFMLexFUPH"
      },
      "execution_count": null,
      "outputs": []
    },
    {
      "cell_type": "code",
      "execution_count": null,
      "metadata": {
        "id": "lmhOvc-rNS0c"
      },
      "outputs": [],
      "source": [
        "# эта функция инвертирует x в Zp с помощью алгоритма Евклида\n",
        "# выходом является целое число y, такое что\n",
        "# 1) 0 < y < p \n",
        "# 2) (xy) mod p = 1 \n",
        "# если число невозможно инвертировать, функция возвращает 0\n",
        "def invert_in_Zp_Euclead(p, x):\n",
        "    gcd, x_gcd, y_gcd = ext_gcd(x, p)\n",
        "    if (gcd != 1) or (p == 1) or (p == 0):\n",
        "        return 0\n",
        "    else:\n",
        "        return x_gcd % p"
      ]
    },
    {
      "cell_type": "code",
      "source": [
        "def bin_power(a, n):\n",
        "    if n <= 0:\n",
        "        return 1\n",
        "    if n % 2 == 1:\n",
        "        return bin_power(a, n-1) * a\n",
        "    b = bin_power(a, n/2)\n",
        "    return b*b"
      ],
      "metadata": {
        "id": "3_-10hFpFjA5"
      },
      "execution_count": null,
      "outputs": []
    },
    {
      "cell_type": "code",
      "execution_count": null,
      "metadata": {
        "id": "e5XLlM4oOGcY"
      },
      "outputs": [],
      "source": [
        "# эта функция инвертирует x в Zp с помощью малой теоремы Ферма и алгоритма быстрого возведения в степень\n",
        "# выходом является целое число y, такое что\n",
        "# 1) 0 < y < p \n",
        "# 2) (xy) mod p = 1 \n",
        "# если число невозможно инвертировать, функция возвращает 0\n",
        "def invert_in_Zp_Ferma(p,x):\n",
        "    if ext_gcd(x, p)[0] != 1:\n",
        "        return 0\n",
        "    return (bin_power(x, p-2))%p"
      ]
    },
    {
      "cell_type": "markdown",
      "metadata": {
        "id": "cC_5grG8GX1k"
      },
      "source": [
        "#Стресс тесты"
      ]
    },
    {
      "cell_type": "code",
      "execution_count": null,
      "metadata": {
        "id": "M2uTC7okGdcs"
      },
      "outputs": [],
      "source": [
        "def stress_test_bridges_determ(n, m, iterations_num=1000):\n",
        "  for i in range(iterations_num):\n",
        "    G = get_random_simple_Gnp_graph(n, m, i)\n",
        "    briges_test = compute_bridges_determ(G)\n",
        "    bridges_true = set(nx.algorithms.bridges(nx.Graph(G)))\n",
        "    diff = list(bridges_true.symmetric_difference(briges_test))\n",
        "    if len(diff) > 0:\n",
        "      raise Exception(f\"Неверное решение в детерминированном алгоритме поиска мостов, n: {n}, m: {m}, seed: {i}\")\n",
        "  print(f\"Стресс тест для детерминированного поиска мостов пройден!, n: {n}, m: {m}, iterations_num: {iterations_num}\")\n",
        "    "
      ]
    },
    {
      "cell_type": "code",
      "execution_count": null,
      "metadata": {
        "id": "GZL4RLYiPAds"
      },
      "outputs": [],
      "source": [
        "def stress_test_bridges_rand(n, m, iterations_num=1000):\n",
        "  exp_err = m * (1/ (2**64))\n",
        "  for i in range(iterations_num):\n",
        "    G = get_random_simple_Gnp_graph(n, m, i)\n",
        "    briges_test = compute_bridges_determ(G)\n",
        "    bridges_true = set(nx.algorithms.bridges(nx.Graph(G)))\n",
        "    diff = list(bridges_true.symmetric_difference(briges_test))\n",
        "    if len(diff) > exp_err:\n",
        "      raise Exception(f\"Число ошибок в рандомизированном алгоритме поиска мостов превышено, n: {n}, m: {m}, errors_num: {len(diff)}, seed: {i}\")\n",
        "  print(f\"Стресс тест для рандомизированного поиска мостов пройден!, n: {n}, m: {m}, iterations_num: {iterations_num}\")\n",
        "    "
      ]
    },
    {
      "cell_type": "code",
      "execution_count": null,
      "metadata": {
        "id": "LKOqFG31Nfje"
      },
      "outputs": [],
      "source": [
        "def stress_test_finite_fields(p = 2**61-1, iterations_num = 100000):\n",
        "  for i in range(iterations_num):\n",
        "    x = np.random.randint(1, p)\n",
        "    inverse_Euclead_x = invert_in_Zp_Euclead(p,x)\n",
        "    inverse_Ferma_x = invert_in_Zp_Ferma(p,x)\n",
        "    if( np.gcd(p,x) == 1 ):\n",
        "      if (x * inverse_Euclead_x - 1) % p != 0:\n",
        "        raise Exception(f\"Неправильное инвертирование алгоритмом Евклида, p: {p}, x: {x}\")\n",
        "      if (x * inverse_Ferma_x - 1) % p != 0:\n",
        "        raise Exception(f\"Неправильное инвертирование алгоритмом быстрого возведения в степень, p: {p}, x: {x}\")\n",
        "    else :\n",
        "      if inverse_Euclead_x != 0:\n",
        "        raise Exception(f\"Неправильное инвертирование алгоритмом Евклида, p: {p}, x: {x}\")\n",
        "      if inverse_Ferma_x != 0:\n",
        "        raise Exception(f\"Неправильное инвертирование алгоритмом быстрого возведения в степень, p: {p}, x: {x}\")  \n",
        "  print(f\"Стресс тест для арифметики в конечных полях пройден!, p: {p}, iterations_num: {iterations_num}\")"
      ]
    },
    {
      "cell_type": "code",
      "execution_count": null,
      "metadata": {
        "id": "fwa1LtushrLG"
      },
      "outputs": [],
      "source": [
        "def stress_test_2bridges_rand(n, m, sort, iterations_num=1000):\n",
        "  exp_err = (m*(m-1)/2) * (1/ (2**64))\n",
        "  for iteration in range(iterations_num):\n",
        "    err_num = 0\n",
        "    G = nx.Graph(get_random_simple_Gnp_graph(n, m, iteration))\n",
        "    bridges_test = compute_2bridges_rand(G,sort)\n",
        "    for edge_group in bridges_test:\n",
        "      for e1 in range(len(edge_group)):\n",
        "        for e2 in range(e1+1,len(edge_group)):\n",
        "          G_with_deleted_2bridge = G.copy()\n",
        "          G_with_deleted_2bridge.remove_edge(*edge_group[e1])\n",
        "          G_with_deleted_2bridge.remove_edge(*edge_group[e2])\n",
        "          if nx.connected.number_connected_components(G) == nx.connected.number_connected_components(G_with_deleted_2bridge):\n",
        "            ++err_num\n",
        "    if err_num > exp_err:\n",
        "      raise Exception(f\"Число ошибок в рандомизированном алгоритме поиска мостов превышено, n: {n}, m: {m}, errors_num: {err_num}, sort: {sort}, seed: {iteration}\")\n",
        "  print(f\"Стресс тест для рандомизированного поиска мостов пройден!, n: {n}, m: {m}, , sort: {sort}, iterations_num: {iterations_num}\")"
      ]
    },
    {
      "cell_type": "code",
      "execution_count": null,
      "metadata": {
        "id": "krNafNhmKdeF"
      },
      "outputs": [],
      "source": [
        "def test_Euler_circuit(G, test_circuit):\n",
        "  edges_dict = {}\n",
        "  m = 0\n",
        "  for (v,neib) in G.items():\n",
        "    for u in neib:\n",
        "      edges_dict[(v,u)] = False\n",
        "      m += 1\n",
        "\n",
        "  l = len(test_circuit)\n",
        "  if m != l:\n",
        "    return False\n",
        "\n",
        "  for i in range(1,m):\n",
        "    if test_circuit[i-1][1] != test_circuit[i][0]:\n",
        "      return False\n",
        "  if test_circuit[l-1][1] != test_circuit[0][0]:\n",
        "    return False\n",
        "\n",
        "  for e in test_circuit:\n",
        "    if edges_dict.get(e, True) == True:\n",
        "      return False\n",
        "    else:\n",
        "      edges_dict[e] = True\n",
        "    \n",
        "  return True\n",
        "\n",
        "# max_n должно быть строго больше чем 10\n",
        "def stress_test_Euler_circuit_digraph(max_n, iterations_num=1000):\n",
        "  for iteration in range(iterations_num):\n",
        "    n = np.random.randint(10, max_n)\n",
        "    k = np.floor(n/4)\n",
        "    G = get_Euler_digraph(n,k)\n",
        "    test_circuit = compute_Euler_circuit_digraph(G)\n",
        "    if not test_Euler_circuit(G, test_circuit):\n",
        "      raise Exception(f\"Неправильный Эйлеров обход, функция генерации: get_Euler_digraph, n: {n}, k: {k}\")\n",
        "  print(f\"Стресс тест для ориентированных Эйлеровых циклов пройден, max_n: {max_n}, iterations_num: {iterations_num}\")"
      ]
    },
    {
      "cell_type": "code",
      "execution_count": null,
      "metadata": {
        "id": "uJvi4ayZbheW"
      },
      "outputs": [],
      "source": [
        "stress_test_bridges_determ(100,30,1000)\n",
        "stress_test_bridges_rand(100,30,1000)\n",
        "stress_test_finite_fields(2347, 1000)\n",
        "stress_test_2bridges_rand(100,30,radix_argsort,1000)\n",
        "stress_test_2bridges_rand(100,30,bucket_argsort,1000)\n",
        "stress_test_2bridges_rand(100,30,quick_argsort,1000)\n",
        "stress_test_Euler_circuit_digraph(1000, 1000)"
      ]
    },
    {
      "cell_type": "markdown",
      "metadata": {
        "id": "IFrOCtsGYI9L"
      },
      "source": [
        "# Юнит тесты"
      ]
    },
    {
      "cell_type": "code",
      "execution_count": null,
      "metadata": {
        "id": "fMi57s_vXG3a"
      },
      "outputs": [],
      "source": [
        "def finite_fields_unit_tests():\n",
        "  assert(invert_in_Zp_Euclead(6,4) == 0)\n",
        "  assert(invert_in_Zp_Ferma(6,4) == 0)\n",
        "\n",
        "  assert(invert_in_Zp_Euclead(6,2) == 0)\n",
        "  assert(invert_in_Zp_Ferma(6,2) == 0)\n",
        "\n",
        "  assert(invert_in_Zp_Euclead(2347,0) == 0)\n",
        "  assert(invert_in_Zp_Ferma(2347,0) == 0)\n",
        "\n",
        "  assert(invert_in_Zp_Euclead(7,6) == 6)\n",
        "  assert(invert_in_Zp_Ferma(7,6) == 6)\n",
        "\n",
        "  assert(invert_in_Zp_Euclead(2347,2346) == 2346)\n",
        "  assert(invert_in_Zp_Ferma(2347,2346) == 2346)\n",
        "\n",
        "  assert(invert_in_Zp_Euclead(1,0) == 0)\n",
        "  assert(invert_in_Zp_Ferma(1,0) == 0)\n",
        "\n",
        "  assert(invert_in_Zp_Euclead(2,0) == 0)\n",
        "  assert(invert_in_Zp_Ferma(2,0) == 0)\n",
        "\n",
        "  assert(invert_in_Zp_Euclead(2,1) == 1)\n",
        "  assert(invert_in_Zp_Ferma(2,1) == 1)"
      ]
    },
    {
      "cell_type": "code",
      "execution_count": null,
      "metadata": {
        "id": "WerEDsxjE6Am"
      },
      "outputs": [],
      "source": [
        "def bridges_unit_test(G):\n",
        "  test_bridges_determ = compute_bridges_determ(nx.convert.to_dict_of_lists(G))\n",
        "  test_bridges_rand = compute_bridges_rand(nx.convert.to_dict_of_lists(G))\n",
        "  true_bridges = set(nx.algorithms.bridges(nx.Graph(G)))\n",
        "  determ_diff = list(true_bridges.symmetric_difference(test_bridges_determ))\n",
        "  rand_diff = list(true_bridges.symmetric_difference(test_bridges_rand))\n",
        "  assert len(determ_diff) == 0\n",
        "  assert len(rand_diff) == 0"
      ]
    },
    {
      "cell_type": "code",
      "execution_count": null,
      "metadata": {
        "id": "dqHC-TYKMWZ-"
      },
      "outputs": [],
      "source": [
        "def two_bridges_unit_test(G, sort_fun):\n",
        "  test_bridges = compute_2bridges_rand(nx.convert.to_dict_of_lists(G), sort_fun)\n",
        "  for edge_group in test_bridges:\n",
        "      for e1 in range(len(edge_group)):\n",
        "        for e2 in range(e1+1,len(edge_group)):\n",
        "          G_with_deleted_2bridge = G.copy()\n",
        "          G_with_deleted_2bridge.remove_edge(*edge_group[e1])\n",
        "          G_with_deleted_2bridge.remove_edge(*edge_group[e2])\n",
        "          assert nx.connected.number_connected_components(G) < nx.connected.number_connected_components(G_with_deleted_2bridge)"
      ]
    },
    {
      "cell_type": "code",
      "execution_count": null,
      "metadata": {
        "id": "LunUdpLHGBtJ"
      },
      "outputs": [],
      "source": [
        "def Euler_circuit_unit_tests():\n",
        "  dims = [1, 2, 3, 4, 5, 6]\n",
        "  for dim in dims:\n",
        "    G = get_hypercube_digraph(dim)\n",
        "    test_circuit = compute_Euler_circuit_digraph(G)\n",
        "    assert(test_Euler_circuit(G,test_circuit))"
      ]
    },
    {
      "cell_type": "code",
      "execution_count": null,
      "metadata": {
        "id": "WRb-MJf9b0p6"
      },
      "outputs": [],
      "source": [
        "finite_fields_unit_tests()\n",
        "print(\"Все юнит тесты для арифметики в коенчных полях пройдены успешно!\")\n",
        "\n",
        "bridges_unit_test(nx.generators.cycle_graph(10))\n",
        "bridges_unit_test(nx.generators.path_graph(10))\n",
        "bridges_unit_test(nx.generators.empty_graph(10))\n",
        "bridges_unit_test(nx.generators.wheel_graph(10))\n",
        "bridges_unit_test(nx.generators.trivial_graph())\n",
        "bridges_unit_test(nx.generators.balanced_tree(3,3))\n",
        "print(\"Все юнит тесты для поиска мостов пройдены успешно!\")\n",
        "\n",
        "sort_functions = [radix_argsort, bucket_argsort, quick_argsort]\n",
        "for sort_fun in sort_functions:\n",
        "  two_bridges_unit_test(nx.generators.cycle_graph(10), sort_fun)\n",
        "  two_bridges_unit_test(nx.generators.path_graph(10), sort_fun)\n",
        "  two_bridges_unit_test(nx.generators.empty_graph(10), sort_fun)\n",
        "  two_bridges_unit_test(nx.generators.wheel_graph(10), sort_fun)\n",
        "  two_bridges_unit_test(nx.generators.trivial_graph(), sort_fun)\n",
        "  two_bridges_unit_test(nx.generators.balanced_tree(3,3), sort_fun)\n",
        "print(\"Все юнит тесты для поиска 2-мостов пройдены успешно!\")\n",
        "\n",
        "Euler_circuit_unit_tests()\n",
        "print(\"Все юнит тесты для поиска Эйлеровых циклов пройдены успешно!\")"
      ]
    },
    {
      "cell_type": "markdown",
      "metadata": {
        "id": "OaHIW1b_ad02"
      },
      "source": [
        "# Графики"
      ]
    },
    {
      "cell_type": "code",
      "execution_count": null,
      "metadata": {
        "id": "Wu6eiPL1dZt1"
      },
      "outputs": [],
      "source": [
        "def check_time(f, *args):\n",
        "  start = time.time()\n",
        "  f(*args)\n",
        "  return time.time() - start\n"
      ]
    },
    {
      "cell_type": "code",
      "execution_count": null,
      "metadata": {
        "id": "QT3suSXzXIcR"
      },
      "outputs": [],
      "source": [
        "def plot_bridges(m_fun, start = 100, step = 100, end = 1000, number_of_retryes = 10):\n",
        "  _x, determ_Gnp_y, determ_Gnm_y, rand_Gnp_y, rand_Gnm_y = [], [], [], [], []\n",
        "  for n in range(start,end,step):\n",
        "    m = m_fun(n)\n",
        "    time_Gnp_determ = 0.\n",
        "    time_Gnp_rand = 0.\n",
        "    time_Gnm_determ = 0.\n",
        "    time_Gnm_rand = 0.\n",
        "    for exp_num in range(number_of_retryes):\n",
        "      g = get_random_simple_Gnp_graph(n,m,exp_num)\n",
        "      time_Gnp_determ += check_time(compute_bridges_determ, g)\n",
        "      time_Gnp_rand += check_time(compute_bridges_rand, g)\n",
        "      g = get_random_simple_Gnm_graph(n,m,exp_num)\n",
        "      time_Gnm_determ += check_time(compute_bridges_determ, g)\n",
        "      time_Gnm_rand += check_time(compute_bridges_rand, g)\n",
        "    time_Gnp_determ /= number_of_retryes\n",
        "    time_Gnp_rand /= number_of_retryes\n",
        "    time_Gnm_determ /= number_of_retryes\n",
        "    time_Gnm_rand /= number_of_retryes\n",
        "    _x.append(n)\n",
        "    determ_Gnp_y.append(time_Gnp_determ)\n",
        "    rand_Gnp_y.append(time_Gnp_rand)\n",
        "    determ_Gnm_y.append(time_Gnm_determ)\n",
        "    rand_Gnm_y.append(time_Gnm_rand)\n",
        "\n",
        "  plt.plot(_x, determ_Gnp_y, label = \"determ Gnp\")\n",
        "  plt.plot(_x, rand_Gnp_y, label = \"rand Gnp\")\n",
        "  plt.plot(_x, determ_Gnm_y, label = \"determ Gnm\")\n",
        "  plt.plot(_x, rand_Gnm_y, label = \"rand Gnm\")\n",
        "  plt.legend(bbox_to_anchor=(1.05, 1), loc='upper left', borderaxespad=0.)\n",
        "  plt.xlabel('number of vertices')\n",
        "  plt.ylabel('time s.')\n",
        "  plt.title(f\"Эксперименты с мостами, start: {start}, step: {step}, end: {end},\\n \\\n",
        "  number of retryes: {number_of_retryes}, edges density: {n/m}\")\n",
        "  #plt.figure(figsize= (1000,1000))\n",
        "  plt.show()"
      ]
    },
    {
      "cell_type": "code",
      "execution_count": null,
      "metadata": {
        "id": "ph0V_04lfXNi"
      },
      "outputs": [],
      "source": [
        "def plot_2bridges(m_fun, start = 5, step = 5, end = 50, number_of_retryes = 2):\n",
        "  _x = []\n",
        "  quick_Gnp, radix_Gnp, bucket_Gnp, standard_Gnp = [], [], [], []\n",
        "  quick_Gnm, radix_Gnm, bucket_Gnm, standard_Gnm = [], [], [], []\n",
        "\n",
        "  for n in range(start,end,step):\n",
        "    m = m_fun(n)\n",
        "    time_quick_Gnp, time_radix_Gnp, time_bucket_Gnp, time_standard_Gnp = 0., 0., 0., 0.\n",
        "    time_quick_Gnm, time_radix_Gnm, time_bucket_Gnm, time_standard_Gnm = 0., 0., 0., 0.\n",
        "\n",
        "    for exp_num in range(number_of_retryes):\n",
        "      g = get_random_simple_Gnp_graph(n,m,exp_num)\n",
        "      time_quick_Gnp += check_time(compute_2bridges_rand,g,quick_argsort)\n",
        "      time_bucket_Gnp += check_time(compute_2bridges_rand,g,bucket_argsort)\n",
        "      time_radix_Gnp += check_time(compute_2bridges_rand,g,radix_argsort)\n",
        "      time_standard_Gnp += check_time(compute_2bridges_rand,g,np.argsort)\n",
        "\n",
        "      g = get_random_simple_Gnm_graph(n,m,exp_num)\n",
        "      time_quick_Gnm += check_time(compute_2bridges_rand,g,quick_argsort)\n",
        "      time_bucket_Gnm += check_time(compute_2bridges_rand,g,bucket_argsort)\n",
        "      time_radix_Gnm += check_time(compute_2bridges_rand,g,radix_argsort)\n",
        "      time_standard_Gnm += check_time(compute_2bridges_rand,g,np.argsort)\n",
        "\n",
        "    time_quick_Gnp /= number_of_retryes\n",
        "    time_bucket_Gnp /= number_of_retryes\n",
        "    time_radix_Gnp /= number_of_retryes\n",
        "    time_standard_Gnp /= number_of_retryes\n",
        "\n",
        "    time_quick_Gnm /= number_of_retryes\n",
        "    time_bucket_Gnm /= number_of_retryes\n",
        "    time_radix_Gnm /= number_of_retryes\n",
        "    time_standard_Gnm /= number_of_retryes\n",
        "\n",
        "    _x.append(n)\n",
        "\n",
        "    quick_Gnp.append(time_quick_Gnp)\n",
        "    bucket_Gnp.append(time_bucket_Gnp)\n",
        "    radix_Gnp.append(time_radix_Gnp)\n",
        "    standard_Gnp.append(time_standard_Gnp)\n",
        "\n",
        "    quick_Gnm.append(time_quick_Gnm)\n",
        "    bucket_Gnm.append(time_bucket_Gnm)\n",
        "    radix_Gnm.append(time_radix_Gnm)\n",
        "    standard_Gnm.append(time_standard_Gnm)\n",
        "\n",
        "  plt.plot(_x, quick_Gnp, label = \"quick Gnp\")\n",
        "  plt.plot(_x, bucket_Gnp, label = \"bucket Gnp\")\n",
        "  plt.plot(_x, radix_Gnp, label = \"radix Gnp\")\n",
        "  plt.plot(_x, standard_Gnp, label = \"standard Gnp\")\n",
        "\n",
        "  plt.plot(_x, quick_Gnm, label = \"quick Gnm\")\n",
        "  plt.plot(_x, bucket_Gnm, label = \"bucket Gnm\")\n",
        "  plt.plot(_x, radix_Gnm, label = \"radix Gnm\")\n",
        "  plt.plot(_x, standard_Gnm, label = \"standard Gnm\")\n",
        "\n",
        "  plt.legend(bbox_to_anchor=(1.05, 1), loc='upper left', borderaxespad=0.)\n",
        "  plt.xlabel('number of vertices')\n",
        "  plt.ylabel('time s.')\n",
        "  plt.title(f\"Эксперименты с 2-мостами, start: {start}, step: {step}, end: {end},\\n \\\n",
        "  number of retryes: {number_of_retryes}, edges density: {n/m}\")\n",
        "  #plt.figure(figsize= (100000,100000))\n",
        "  plt.show()"
      ]
    },
    {
      "cell_type": "code",
      "execution_count": null,
      "metadata": {
        "id": "s1qohsHKgPOy"
      },
      "outputs": [],
      "source": [
        "print(f\"Total time: {check_time(plot_bridges, lambda n: 10*n)}\")"
      ]
    },
    {
      "cell_type": "code",
      "execution_count": null,
      "metadata": {
        "id": "76072Rr5oKlC"
      },
      "outputs": [],
      "source": [
        "print(f\"Total time: {check_time(plot_2bridges, lambda n: n)}\")"
      ]
    }
  ],
  "metadata": {
    "colab": {
      "collapsed_sections": [],
      "name": "HSE_opt_lab1.ipynb",
      "provenance": []
    },
    "kernelspec": {
      "display_name": "Python 3",
      "name": "python3"
    }
  },
  "nbformat": 4,
  "nbformat_minor": 0
}